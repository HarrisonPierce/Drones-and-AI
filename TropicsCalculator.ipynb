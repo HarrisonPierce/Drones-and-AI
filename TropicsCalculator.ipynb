{
 "cells": [
  {
   "cell_type": "code",
   "execution_count": 8,
   "metadata": {},
   "outputs": [
    {
     "name": "stdout",
     "output_type": "stream",
     "text": [
      "Enter the top line of latitude: 99999\n",
      "You are not in the tropics\n"
     ]
    }
   ],
   "source": [
    "#Tropics calculator\n",
    "#Harrison Pierce 3/1/20\n",
    "import math\n",
    "\n",
    "lat = int(input(\"Enter the top line of latitude: \")) ##accept latitude from user input\n",
    "\n",
    "lat = abs(lat) ##convert to absolute value of user input\n",
    "\n",
    "\n",
    "if lat < 23.5: ##compare user input to tropics threshhold\n",
    "    print(\"You are in the tropics\")\n",
    "elif lat > 23.5:\n",
    "    print(\"You are not in the tropics\")\n"
   ]
  },
  {
   "cell_type": "code",
   "execution_count": null,
   "metadata": {},
   "outputs": [],
   "source": []
  }
 ],
 "metadata": {
  "kernelspec": {
   "display_name": "Python 3",
   "language": "python",
   "name": "python3"
  }
 },
 "nbformat": 4,
 "nbformat_minor": 2
}
