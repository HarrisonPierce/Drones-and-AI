{
 "cells": [
  {
   "cell_type": "code",
   "execution_count": 26,
   "metadata": {},
   "outputs": [],
   "source": [
    "import math\n",
    "\n",
    "def DroneCalculator(): ##Create function to accept the user input for each variable\n",
    "    fh = float(input(\"Enter the flight height: \"))\n",
    "\n",
    "    fl = float(input(\"Enter the focal length: \"))##accept focal length from user input in float format\n",
    "\n",
    "    ss = float(input(\"Enter the sensor span: \"))##accept sensor span from user input in float format\n",
    "\n",
    "    sb = float(input(\"Enter the sensor breadth: \")) ##accept sensor span from user input in float format\n",
    "    \n",
    "    groundspan = (ss * (fh / fl)) ##Arithmetic for ground span calculation\n",
    "    groundbreadth = (sb * (fh / fl)) ##Ground breadth arithmetic\n",
    "\n",
    "    return \"The ground breadth is {}\".format(groundbreadth), \"The ground span is {}\".format(groundspan) ##print ground breadth"
   ]
  },
  {
   "cell_type": "code",
   "execution_count": 27,
   "metadata": {},
   "outputs": [
    {
     "name": "stdout",
     "output_type": "stream",
     "text": [
      "Enter the flight height: 1\n",
      "Enter the focal length: 1\n",
      "Enter the sensor span: 1\n",
      "Enter the sensor breadth: 1\n"
     ]
    },
    {
     "data": {
      "text/plain": [
       "('The ground breadth is 1.0', 'The ground span is 1.0')"
      ]
     },
     "execution_count": 27,
     "metadata": {},
     "output_type": "execute_result"
    }
   ],
   "source": [
    "DroneCalculator()"
   ]
  },
  {
   "cell_type": "markdown",
   "metadata": {},
   "source": [
    "# "
   ]
  }
 ],
 "metadata": {
  "kernelspec": {
   "display_name": "Python 3",
   "language": "python",
   "name": "python3"
  }
 },
 "nbformat": 4,
 "nbformat_minor": 2
}
