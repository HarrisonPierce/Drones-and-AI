{
 "cells": [
  {
   "cell_type": "code",
   "execution_count": 7,
   "metadata": {},
   "outputs": [
    {
     "ename": "TypeError",
     "evalue": "unsupported operand type(s) for /: 'function' and 'function'",
     "output_type": "error",
     "traceback": [
      "\u001b[1;31m---------------------------------------------------------------------------\u001b[0m",
      "\u001b[1;31mTypeError\u001b[0m                                 Traceback (most recent call last)",
      "\u001b[1;32m<ipython-input-7-b7b03ce4312d>\u001b[0m in \u001b[0;36m<module>\u001b[1;34m\u001b[0m\n\u001b[0;32m     11\u001b[0m \u001b[1;33m\u001b[0m\u001b[0m\n\u001b[0;32m     12\u001b[0m \u001b[1;33m\u001b[0m\u001b[0m\n\u001b[1;32m---> 13\u001b[1;33m \u001b[0mgroundspan\u001b[0m \u001b[1;33m=\u001b[0m \u001b[1;33m(\u001b[0m\u001b[0msensorspan\u001b[0m \u001b[1;33m*\u001b[0m \u001b[1;33m(\u001b[0m\u001b[0mflightheight\u001b[0m \u001b[1;33m/\u001b[0m \u001b[0mfocallength\u001b[0m\u001b[1;33m)\u001b[0m\u001b[1;33m)\u001b[0m \u001b[1;31m##Arithmetic for ground span calculation\u001b[0m\u001b[1;33m\u001b[0m\u001b[1;33m\u001b[0m\u001b[0m\n\u001b[0m\u001b[0;32m     14\u001b[0m \u001b[1;33m\u001b[0m\u001b[0m\n\u001b[0;32m     15\u001b[0m \u001b[0mprint\u001b[0m\u001b[1;33m(\u001b[0m\u001b[1;34m\"The ground span is ()\"\u001b[0m\u001b[1;33m.\u001b[0m\u001b[0mformat\u001b[0m\u001b[1;33m(\u001b[0m\u001b[0mgroundspan\u001b[0m\u001b[1;33m)\u001b[0m\u001b[1;33m)\u001b[0m \u001b[1;31m##Print ground span\u001b[0m\u001b[1;33m\u001b[0m\u001b[1;33m\u001b[0m\u001b[0m\n",
      "\u001b[1;31mTypeError\u001b[0m: unsupported operand type(s) for /: 'function' and 'function'"
     ]
    }
   ],
   "source": [
    "import math\n",
    "\n",
    "def flightheight(): ##Create function to accept flight height from the user input\n",
    "    flightheight = float(input(\"Enter the flight height: \"))\n",
    "def focallength(): ##Create function to accept focal length from user input in float format\n",
    "    focallength = float(input(\"Enter the focal length: \"))\n",
    "def sensorspan(): ##Create function to accept sensor span from user input in float format\n",
    "    sensorspan = float(input(\"Enter the sensor span: \"))\n",
    "def sensorbreadth(): ##Create function to accept sensor span from user input in float format\n",
    "    sensorbreadth = float(input(\"Enter the sensor breadth: \"))\n",
    "    \n",
    "\n",
    "groundspan = (sensorspan * (flightheight / focallength)) ##Arithmetic for ground span calculation\n",
    "    \n",
    "print(\"The ground span is ()\".format(groundspan)) ##Print ground span\n",
    "    \n",
    "groundbreadth = (sensorbreadth * (flightheight / focallength)) ##Ground breadth arithmetic\n",
    "    \n",
    "print(\"The ground breadth is ()\".format(groundbreadth)) ##print ground breadth"
   ]
  },
  {
   "cell_type": "code",
   "execution_count": 8,
   "metadata": {},
   "outputs": [
    {
     "name": "stdout",
     "output_type": "stream",
     "text": [
      "Enter the flight height: 1\n",
      "Enter the focal length: 1\n",
      "Enter the sensor span: 1\n",
      "Enter the sensor breadth: 1\n"
     ]
    }
   ],
   "source": [
    "    flightheight()\n",
    "    focallength()\n",
    "    sensorspan()\n",
    "    sensorbreadth()"
   ]
  },
  {
   "cell_type": "markdown",
   "metadata": {},
   "source": [
    "\n",
    "    "
   ]
  },
  {
   "cell_type": "code",
   "execution_count": null,
   "metadata": {},
   "outputs": [],
   "source": []
  }
 ],
 "metadata": {
  "kernelspec": {
   "display_name": "Python 3",
   "language": "python",
   "name": "python3"
  },
  "language_info": {
   "codemirror_mode": {
    "name": "ipython",
    "version": 3
   },
   "file_extension": ".py",
   "mimetype": "text/x-python",
   "name": "python",
   "nbconvert_exporter": "python",
   "pygments_lexer": "ipython3",
   "version": "3.7.4"
  }
 },
 "nbformat": 4,
 "nbformat_minor": 2
}
